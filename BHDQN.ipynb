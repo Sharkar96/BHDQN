{
  "nbformat": 4,
  "nbformat_minor": 0,
  "metadata": {
    "colab": {
      "provenance": [],
      "authorship_tag": "ABX9TyNjKi9saj7KDfwZnsiUqVMN",
      "include_colab_link": true
    },
    "kernelspec": {
      "name": "python3",
      "display_name": "Python 3"
    },
    "language_info": {
      "name": "python"
    }
  },
  "cells": [
    {
      "cell_type": "markdown",
      "metadata": {
        "id": "view-in-github",
        "colab_type": "text"
      },
      "source": [
        "<a href=\"https://colab.research.google.com/github/Sharkar96/BHDQN/blob/main/BHDQN.ipynb\" target=\"_parent\"><img src=\"https://colab.research.google.com/assets/colab-badge.svg\" alt=\"Open In Colab\"/></a>"
      ]
    },
    {
      "cell_type": "code",
      "source": [
        "import random as r\n",
        "import numpy as np\n",
        "import math as m\n",
        "np.set_printoptions(precision=2)"
      ],
      "metadata": {
        "id": "HpXLlsngFnL7"
      },
      "execution_count": 1,
      "outputs": []
    },
    {
      "cell_type": "code",
      "execution_count": null,
      "metadata": {
        "colab": {
          "base_uri": "https://localhost:8080/"
        },
        "id": "JZ6wZoV9j2wT",
        "outputId": "fe8ca393-1b86-4aef-e0d8-c055bbc9daa5"
      },
      "outputs": [
        {
          "output_type": "stream",
          "name": "stdout",
          "text": [
            "a=[0 0] b=[0.11 0.99] c=[9.06 0.04] d=[ 8.95 -0.96]\n"
          ]
        }
      ],
      "source": [
        "\n",
        "class Obstacle:\n",
        "  def __init__(self, o, A):\n",
        "    self.A=A\n",
        "    self.a=o\n",
        "    self.createObstacle(o, A)\n",
        "\n",
        "  #create an obs, first vert is orgini then on right,\n",
        "  #the fourth is down from origin\n",
        "  def createObstacle(self, o, A):\n",
        "    th=m.radians(360*r.random())\n",
        "    R=np.array([[m.cos(th), -m.sin(th)],[m.sin(th), m.cos(th)]])\n",
        "    rngLength=r.randint(1, A)\n",
        "\n",
        "    self.b=np.array([o[0]+rngLength,o[1]])\n",
        "    self.c=np.array([o[0]+rngLength,o[1]-A/rngLength])\n",
        "    self.d=np.array([o[0],o[1]-A/rngLength])\n",
        "\n",
        "    self.b= np.matmul(R, self.b)\n",
        "    self.c= np.matmul(R, self.c)\n",
        "    self.d= np.matmul(R, self.d)\n",
        "\n",
        "  def __str__(self):\n",
        "    return 'a=' + str(self.a) + ' b=' + str(self.b) + ' c=' + str(self.c) + ' d='+ str(self.d)\n",
        "\n",
        "class Maze:\n",
        "  def __init__(self, A):\n",
        "    self.coordinates=\n",
        "\n",
        "\n",
        "\n",
        "\n",
        "\n",
        "\n",
        "\n",
        "\n"
      ]
    }
  ]
}