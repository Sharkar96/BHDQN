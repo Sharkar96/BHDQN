{
  "cells": [
    {
      "cell_type": "markdown",
      "metadata": {
        "id": "view-in-github",
        "colab_type": "text"
      },
      "source": [
        "<a href=\"https://colab.research.google.com/github/Sharkar96/BHDQN/blob/main/BHDQN.ipynb\" target=\"_parent\"><img src=\"https://colab.research.google.com/assets/colab-badge.svg\" alt=\"Open In Colab\"/></a>"
      ]
    },
    {
      "cell_type": "code",
      "execution_count": 13,
      "metadata": {
        "colab": {
          "base_uri": "https://localhost:8080/"
        },
        "id": "HpXLlsngFnL7",
        "outputId": "d0fef11f-38e9-4e4b-88a4-b65c45f5ccbd"
      },
      "outputs": [
        {
          "output_type": "stream",
          "name": "stdout",
          "text": [
            "Drive already mounted at /content/drive; to attempt to forcibly remount, call drive.mount(\"/content/drive\", force_remount=True).\n"
          ]
        }
      ],
      "source": [
        "import random as r\n",
        "import numpy as np\n",
        "import math as m\n",
        "from numpy import linalg\n",
        "from shapely.geometry import Point, Polygon, LineString\n",
        "from shapely import affinity, distance\n",
        "from shapely.ops import nearest_points\n",
        "import matplotlib.pyplot as plt\n",
        "import matplotlib.patches as patches\n",
        "from google.colab import drive\n",
        "np.set_printoptions(precision=5)\n",
        "drive.mount('/content/drive')"
      ]
    },
    {
      "cell_type": "code",
      "execution_count": 14,
      "metadata": {
        "id": "Wk_vV_lq16vL"
      },
      "outputs": [],
      "source": [
        "def point2nparray(p: Point):\n",
        "  return np.array([p.x, p.y])\n",
        "\n",
        "def normalize(v):\n",
        "    norm = np.linalg.norm(v)\n",
        "    if norm == 0:\n",
        "       return v\n",
        "    return v / norm\n",
        "\n",
        "maxDivision=10\n",
        "\n",
        "def divide(n, d):\n",
        "  return min(n / d, maxDivision) if d else maxDivision"
      ]
    },
    {
      "cell_type": "markdown",
      "metadata": {
        "id": "LE_Z6u0J8u71"
      },
      "source": [
        "Parameters"
      ]
    },
    {
      "cell_type": "code",
      "execution_count": 15,
      "metadata": {
        "id": "aIAUfZtT8r1c"
      },
      "outputs": [],
      "source": [
        "katt=1 #attraction coefficient\n",
        "kstr=8 #blackhole field coefficient\n",
        "krep=20 #repulsive coefficient\n",
        "delta=1 #safety distance\n",
        "delta0=4 #range of repulsive field\n",
        "ps=8 #range of blackhole field\n",
        "W1=-100 #collision penalty\n",
        "W2=10 #reward of completing goals\n",
        "W3=-0.2 #penalty for each time\n",
        "alpha=-80 #reward coefficient of potential field\n",
        "gamma=0.95 #discount rate\n",
        "ts=1 #sampling time\n",
        "eps=2 #distance from the goal to be reached\n",
        "stdDev=0.1 #standard deviation for the gaussian noise"
      ]
    },
    {
      "cell_type": "code",
      "execution_count": 16,
      "metadata": {
        "id": "xYS9ekGRlfhK"
      },
      "outputs": [],
      "source": [
        "class Obstacle:\n",
        "  def __init__(self, o: Point, A):\n",
        "    self.A=A\n",
        "    self.o=o\n",
        "    self.obstacle=None\n",
        "    self.createObstacle(o, A)\n",
        "\n",
        "  def contains(self, *arg):\n",
        "    return self.obstacle.contains(arg)\n",
        "\n",
        "  def createObstacle(self, o: Point, A):\n",
        "    th=360*r.random()\n",
        "    rngLength=(r.random()+0.5)*m.sqrt(A)\n",
        "\n",
        "    vertex=[]\n",
        "    vertex.append(Point(o.x-rngLength/2,o.y-(A/rngLength)/2))\n",
        "    vertex.append(Point(o.x+rngLength/2,o.y-(A/rngLength)/2))\n",
        "    vertex.append(Point(o.x+rngLength/2,o.y+(A/rngLength)/2))\n",
        "    vertex.append(Point(o.x-rngLength/2,o.y+(A/rngLength)/2))\n",
        "\n",
        "    self.obstacle=affinity.rotate(Polygon(vertex),th)\n",
        "\n",
        "  def polygon2array(self):\n",
        "    x,y =self.obstacle.exterior.coords.xy\n",
        "    return[list(a) for a in zip(x,y)]\n",
        "\n",
        "  def __str__(self):\n",
        "    return str(self.obstacle)"
      ]
    },
    {
      "cell_type": "code",
      "execution_count": 17,
      "metadata": {
        "id": "-MY3RfTouW_3"
      },
      "outputs": [],
      "source": [
        "class Robot:\n",
        "  def __init__(self, x, y):\n",
        "    self.x=x\n",
        "    self.y=y\n",
        "    #moves: E, NE, N, NW, W, SW, S, SE\n",
        "    self.moves=['E', 'NE', 'N', 'NW', 'W', 'SW', 'S', 'SE']\n",
        "    self.possibleMoves= np.array([[1,0],\n",
        "                             [0.707,0.707],\n",
        "                             [0,1],\n",
        "                             [-0.707,0.707],\n",
        "                             [-1,0],\n",
        "                             [-0.707,-0.707],\n",
        "                             [0,-1],\n",
        "                             [0.707,-0.707]]\n",
        "                            )\n",
        "\n",
        "  def compass(self, force):\n",
        "    return np.dot(force, self.possibleMoves.T)\n",
        "\n",
        "  def move(self, chosenMove, verbose=False):\n",
        "    self.x=self.x + np.random.normal(0, stdDev) + ts*self.possibleMoves[chosenMove][0]\n",
        "    self.y=self.y + np.random.normal(0, stdDev) + ts*self.possibleMoves[chosenMove][1]\n",
        "\n",
        "    if verbose:\n",
        "      print(self.moves[chosenMove], end=' ')\n",
        "      print(np.array([self.x, self.y]))\n",
        "    return\n",
        "\n",
        "  def __str__(self):\n",
        "    return str(np.array([self.x,self.y]))"
      ]
    },
    {
      "cell_type": "code",
      "execution_count": 6,
      "metadata": {
        "id": "JZ6wZoV9j2wT"
      },
      "outputs": [],
      "source": [
        "class Maze:\n",
        "  def __init__(self, A):\n",
        "    self.l=m.sqrt(A)\n",
        "    self.coordinates=np.array([[0,0],\n",
        "                              [self.l,0],\n",
        "                              [self.l,self.l],\n",
        "                              [0,self.l]])\n",
        "    self.obstacles=[]\n",
        "    self.goals=[]\n",
        "    self.robot=None\n",
        "    self.Umin= -0.5*kstr*ps**2\n",
        "    self.Umax= 0.5*krep*(maxDivision-1/4)**2  #+ 0.5*katt*(self.l*1.41)**2\n",
        "\n",
        "  def getState(self, stateSize=9):\n",
        "    p= np.array([self.robot.x,self.robot.y])\n",
        "    state= np.zeros((stateSize, stateSize))\n",
        "    for i in range(stateSize):\n",
        "      for j in range(stateSize):\n",
        "        state[i, j]=self.potentialField(p+np.array([j-(stateSize-1)/2,i-(stateSize-1)/2]))\n",
        "\n",
        "    return np.flipud(state)\n",
        "\n",
        "  def step(self, action):\n",
        "    def calcReward(pt1, pt2):\n",
        "      reward=0\n",
        "      if maze.robot.x <0 or maze.robot.x>self.l or maze.robot.y <0 or maze.robot.y>self.l or self.isGoalOccluded(Point(maze.robot.x, maze.robot.y)):\n",
        "        reward+=W1\n",
        "      if self.isGoalReached():\n",
        "        reward+=W2\n",
        "      reward+=W3\n",
        "      reward+=alpha*(pt2-pt1)\n",
        "      return reward\n",
        "\n",
        "    pt1=self.potentialField()\n",
        "    self.robot.move(action)\n",
        "    pt2=self.potentialField()\n",
        "    nextState=self.getState(stateSize)\n",
        "    reward=calcReward(pt1, pt2)\n",
        "    done=self.isGoalReached()\n",
        "    return nextState, reward, done\n",
        "\n",
        "  def potentialField(self, p=None):\n",
        "    if p is None:\n",
        "      p=np.array([self.robot.x, self.robot.y])\n",
        "\n",
        "    #check if the point is inside an obstacle enlarged by delta\n",
        "    for i in self.obstacles:\n",
        "      if i.obstacle.buffer(delta, join_style=2).contains(Point(p[0],p[1])):\n",
        "        return 1\n",
        "\n",
        "    resultingP=0\n",
        "    for i in self.goals:\n",
        "      dis=distance(i, Point(p[0], p[1]))\n",
        "      #attractive potential\n",
        "      normalAttP= katt*0.5*(dis)**2\n",
        "\n",
        "      #black hole potential\n",
        "      blackHolePmodule=0\n",
        "      if dis <= ps:\n",
        "        blackHolePmodule=-0.5*kstr*(ps-dis)**2\n",
        "      resultingP = resultingP + normalAttP + blackHolePmodule\n",
        "\n",
        "    #repulsive potential\n",
        "    for i in self.obstacles:\n",
        "      dis=distance(i.obstacle, Point(p[0], p[1]))\n",
        "      repulsiveP=0\n",
        "      if dis <= delta0:\n",
        "        repulsiveP=0.5*krep*(divide(1,dis-delta)-divide(1,delta0-delta))**2\n",
        "      resultingP = resultingP + repulsiveP\n",
        "\n",
        "    #normalize\n",
        "    resultingP=(resultingP-self.Umin)/(self.Umax-self.Umin)\n",
        "    return resultingP\n",
        "\n",
        "  def gravitationalForce(self, p=None):\n",
        "    if p is None:\n",
        "      p=np.array([self.robot.x, self.robot.y])\n",
        "\n",
        "    resultingF=np.array([0, 0])\n",
        "    for i in self.goals:\n",
        "      #attractive force\n",
        "      normalAttF= -katt*(p - point2nparray(i))\n",
        "\n",
        "      #black hole force\n",
        "      dis=distance(i, Point(p[0], p[1]))\n",
        "      blackHoleF=np.array([0, 0])\n",
        "      if dis <= ps:\n",
        "        blackHoleFmodule= kstr*(ps-dis)\n",
        "        blackHoleF=blackHoleFmodule*normalize(point2nparray(i)-p)\n",
        "      resultingF = resultingF + normalAttF + blackHoleF\n",
        "\n",
        "    #repulsive force\n",
        "    for i in self.obstacles:\n",
        "      dis=distance(i.obstacle, Point(p[0], p[1]))\n",
        "      repulsiveF= np.array([0, 0])\n",
        "      if dis <= delta0:\n",
        "        repulsiveFmodule=-krep*(divide(1,dis-delta)-divide(1,delta0-delta))*divide(1,(dis-delta)**2)\n",
        "        p1, p2 = nearest_points(i.obstacle, Point(p[0], p[1]))\n",
        "        repulsiveF=-repulsiveFmodule*normalize(point2nparray(p2)-point2nparray(p1))\n",
        "      resultingF = resultingF + repulsiveF\n",
        "    return resultingF\n",
        "\n",
        "  #it assumes just 1 robot\n",
        "  def isGoalReached(self):\n",
        "    robotPosition= np.array([self.robot.x, self.robot.y])\n",
        "    for goal in self.goals:\n",
        "      if linalg.norm(point2nparray(goal)-robotPosition)<=eps:\n",
        "        return True\n",
        "\n",
        "    return False\n",
        "\n",
        "  #check if a goal spawned inside an obstacle\n",
        "  def isGoalOccluded(self, p: Point):\n",
        "    for i in self.obstacles:\n",
        "      if i.contains(p):\n",
        "        return True\n",
        "    return False\n",
        "\n",
        "  #check if the obstacle spawned over a goal\n",
        "  def isObstacleOccluding(self, p: Polygon):\n",
        "    for i in self.goals:\n",
        "      if p.contains(i):\n",
        "        return True\n",
        "    return False\n",
        "\n",
        "  #spawnRobot must be performed after add Obstacles\n",
        "  def spawnRobot(self, x=None, y=None):\n",
        "      if x is not None and y is not None:\n",
        "        if self.isGoalOccluded(Point(x,y)):\n",
        "          print('Position was eccupied')\n",
        "        else:\n",
        "          self.robot=Robot(x,y)\n",
        "          return\n",
        "\n",
        "      candidate=Point(r.random()*self.l,r.random()*self.l)\n",
        "      while self.isGoalOccluded(candidate):\n",
        "        candidate=Point(r.random()*self.l,r.random()*self.l)\n",
        "      self.robot=Robot(candidate.x,candidate.y)\n",
        "\n",
        "  #addGoals and addObstacles can be performed in every order\n",
        "  def addGoals(self,n=1):\n",
        "    for i in range(n):\n",
        "      candidate=Point(r.random()*self.l, r.random()*self.l)\n",
        "      while self.isGoalOccluded(candidate):\n",
        "        candidate=Point(r.random()*self.l, r.random()*self.l)\n",
        "      self.goals.append(candidate)\n",
        "\n",
        "  def addObstacles(self, n=1):\n",
        "    #maximum area is 7% of entire maze\n",
        "    maxA=0.07\n",
        "    for i in range(n):\n",
        "      candidate=Obstacle(o= Point(r.random()*self.l,r.random()*self.l),\n",
        "                                     A= self.l*self.l*maxA*r.random())\n",
        "      while self.isObstacleOccluding(candidate):\n",
        "        candidate=Obstacle(o= Point(r.random()*self.l,r.random()*self.l),\n",
        "                                     A= self.l*self.l*maxA*r.random())\n",
        "      self.obstacles.append(candidate)\n",
        "\n",
        "  def print(self):\n",
        "    print('coordinates: '+ str(self.coordinates))\n",
        "    print('-------------------')\n",
        "    print('robot: ' + str(self.robot))\n",
        "    print('-------------------')\n",
        "    print('goals: ')\n",
        "    for i in self.goals:\n",
        "      print(point2nparray(i))\n",
        "    print('-------------------')\n",
        "    print('obstacles: ')\n",
        "    for i in self.obstacles:\n",
        "      print(i)\n",
        "    print('-------------------')\n",
        "    print('Umin: ' + str(self.Umin))\n",
        "    print('Umax: ' + str(self.Umax))\n",
        "    print('-------------------')\n",
        "\n",
        "  def plot(self):\n",
        "    plt.clf()\n",
        "    #plot the maze\n",
        "    rectangle = patches.Rectangle((0,0), self.l, self.l,\n",
        "                              linewidth=1, edgecolor='b', facecolor='none')\n",
        "    plt.gca().add_patch(rectangle)\n",
        "    #plot robot\n",
        "    plt.scatter(self.robot.x, self.robot.y, c='b', marker='o', label='Robot')\n",
        "    #plot goals\n",
        "    for goal in self.goals:\n",
        "         circle= patches.Circle((goal.x, goal.y), eps, edgecolor='g', facecolor='lightgreen', linestyle='--')\n",
        "         plt.gca().add_patch(circle)\n",
        "         circle= patches.Circle((goal.x, goal.y), ps, edgecolor='black', facecolor='none',linestyle='--', label='blackhole')\n",
        "         plt.gca().add_patch(circle)\n",
        "         plt.scatter(goal.x, goal.y, color='darkgreen', marker='x', label='Goal')\n",
        "    #plot obstacles\n",
        "    for obs in self.obstacles:\n",
        "      poly=patches.Polygon(obs.polygon2array(),edgecolor='r', facecolor='r')\n",
        "      plt.gca().add_patch(poly)\n",
        "    plt.gca().set_aspect('equal')\n",
        "    plt.xticks(range(0, m.ceil(self.l),4))\n",
        "    plt.yticks(range(0, m.ceil(self.l),4))\n",
        "    plt.xlim(-1, m.ceil(self.l)+1)\n",
        "    plt.ylim(-1, m.ceil(self.l)+1)\n",
        "    plt.legend()\n",
        "    plt.draw()\n",
        "    plt.pause(0.1)\n"
      ]
    },
    {
      "cell_type": "code",
      "source": [
        "def buildMaze(area=2500, nGoals=1, xRobot=None, yRobot=None, nObstacles=0):\n",
        "  maze=Maze(2500)\n",
        "  maze.addGoals(nGoals)\n",
        "  maze.spawnRobot(xRobot, yRobot)\n",
        "  maze.addObstacles(nObstacles)\n",
        "  return maze"
      ],
      "metadata": {
        "id": "Fq2kIYBd_aag"
      },
      "execution_count": 18,
      "outputs": []
    },
    {
      "cell_type": "markdown",
      "source": [
        "**QN**"
      ],
      "metadata": {
        "id": "mwaMBdoLoDAO"
      }
    },
    {
      "cell_type": "code",
      "execution_count": 19,
      "metadata": {
        "id": "S5I5Wdx418Kb"
      },
      "outputs": [],
      "source": [
        "from tensorflow import keras\n",
        "from keras.models import Sequential\n",
        "from keras.layers import Conv2D, MaxPooling2D, Flatten, Dense, LeakyReLU\n",
        "from keras.optimizers import Adam"
      ]
    },
    {
      "cell_type": "code",
      "execution_count": 20,
      "metadata": {
        "id": "KW8_mTG01-La"
      },
      "outputs": [],
      "source": [
        "stateSize = 9  # 2D environment, assuming x and y coordinates\n",
        "nActions = 8  # 8 possible moves\n",
        "ReLUalpha = 0.1\n",
        "learningRate=0.1 #for Adam\n",
        "maxEpochs=80"
      ]
    },
    {
      "cell_type": "code",
      "execution_count": 21,
      "metadata": {
        "id": "fu2fM9ZV08Gb"
      },
      "outputs": [],
      "source": [
        "def buildQN(inputShape, nActions):\n",
        "  model = Sequential()\n",
        "\n",
        "  model.add(Conv2D(16, (3, 3), padding='same', input_shape=inputShape))\n",
        "  model.add(LeakyReLU(alpha=ReLUalpha))\n",
        "  model.add(Conv2D(16, (3, 3), padding='same'))\n",
        "  model.add(LeakyReLU(alpha=ReLUalpha))\n",
        "  model.add(MaxPooling2D(pool_size=(2, 2)))\n",
        "\n",
        "  model.add(Flatten())\n",
        "  # Fully connected layers\n",
        "  model.add(Dense(32))\n",
        "  model.add(LeakyReLU(alpha=ReLUalpha))\n",
        "  model.add(Dense(32))\n",
        "  model.add(LeakyReLU(alpha=ReLUalpha))\n",
        "\n",
        "  # Output layer\n",
        "  model.add(Dense(nActions, activation='linear'))\n",
        "\n",
        "  # Compile the model\n",
        "  model.compile(loss='mse', optimizer=Adam(learning_rate=learningRate))\n",
        "  return model\n",
        "\n",
        "QN = buildQN((stateSize, stateSize, 1), nActions)\n",
        "#QN.summary()"
      ]
    },
    {
      "cell_type": "code",
      "execution_count": 24,
      "metadata": {
        "colab": {
          "base_uri": "https://localhost:8080/",
          "height": 787
        },
        "id": "9MQS-X5IzabO",
        "outputId": "3c0ea733-ed53-45ce-c7c7-058b051863f0"
      },
      "outputs": [
        {
          "output_type": "stream",
          "name": "stdout",
          "text": [
            "episode: 0/10\n",
            "cumulative reward: -12.12808433817607\n",
            "episode: 1/10\n",
            "cumulative reward: 3.1118915570858006\n",
            "episode: 2/10\n",
            "cumulative reward: -20.315352177007597\n",
            "episode: 3/10\n",
            "cumulative reward: -29.43530623026393\n",
            "episode: 4/10\n",
            "cumulative reward: -29.62699442760307\n",
            "episode: 5/10\n",
            "cumulative reward: -23.270488149714726\n",
            "episode: 6/10\n",
            "cumulative reward: -11.716463678514698\n",
            "episode: 7/10\n",
            "cumulative reward: -23.50232568695607\n",
            "episode: 8/10\n",
            "cumulative reward: -14.473377358100258\n",
            "episode: 9/10\n",
            "cumulative reward: -21.260734696836465\n"
          ]
        },
        {
          "output_type": "display_data",
          "data": {
            "text/plain": [
              "<Figure size 640x480 with 1 Axes>"
            ],
            "image/png": "[encoded data removed]"
          },
          "metadata": {}
        }
      ],
      "source": [
        "QN.load_weights('/content/drive/MyDrive/Colab Notebooks/q_network_weights.h5')\n",
        "\n",
        "\n",
        "def pipeline(QN, nEpisodes, epsilon, nObstacles):\n",
        "  maze=buildMaze()\n",
        "  #plt.ion()\n",
        "  episodesRewards=[]\n",
        "  for episode in range(nEpisodes):\n",
        "    print('episode: ' + str(episode) + '/' + str(nEpisodes))\n",
        "\n",
        "    # Initialize the environment and get the initial state\n",
        "    state = maze.getState(stateSize).reshape((1,stateSize,stateSize,1))\n",
        "    done = maze.isGoalReached()\n",
        "\n",
        "    cumulativeReward=0\n",
        "    loss=[]\n",
        "    i=0\n",
        "    while not done and i<maxEpochs :\n",
        "        i+=1\n",
        "        #epsilon-greedy strategy\n",
        "        if np.random.rand() < epsilon:\n",
        "            action = np.random.randint(nActions)\n",
        "        else:\n",
        "            qValues = QN.predict(state, verbose=0)\n",
        "            action = np.argmax(qValues)\n",
        "\n",
        "        #performes the action chosen by the current QN\n",
        "        nextState, reward, done = maze.step(action)\n",
        "        cumulativeReward+=reward\n",
        "        #maze.plot()\n",
        "        target = reward + gamma * np.max(QN.predict(nextState.reshape((1,stateSize,stateSize,1)),verbose=0))\n",
        "        qValues = QN.predict(state, verbose=0)\n",
        "        qValues[0, action] = target\n",
        "\n",
        "        #Train the Q-network on the updated Q-values\n",
        "        history=QN.fit(state, qValues, verbose=0)\n",
        "        loss.append(history.history['loss'][0])\n",
        "\n",
        "    print('cumulative reward: ' + str(cumulativeReward))\n",
        "    episodesRewards.append(cumulativeReward)\n",
        "    #plt.plot(loss)\n",
        "    maze.spawnRobot()\n",
        "    #plt.ioff()\n",
        "    #plt.show()\n",
        "\n",
        "  QN.save_weights('/content/drive/MyDrive/Colab Notebooks/q_network_weights.h5')\n",
        "  plt.plot(episodesRewards)\n",
        "\n",
        "\n",
        "pipeline(QN,10,0.90,0)"
      ]
    },
    {
      "cell_type": "markdown",
      "source": [
        "For using the newly trained QN"
      ],
      "metadata": {
        "id": "GNQtF74jF7Ry"
      }
    },
    {
      "cell_type": "code",
      "execution_count": null,
      "metadata": {
        "id": "c9TgUvdyKzUc"
      },
      "outputs": [],
      "source": [
        "maze=buildMaze()\n",
        "maze.plot()\n"
      ]
    },
    {
      "cell_type": "code",
      "execution_count": null,
      "metadata": {
        "id": "u0bOuHOHMCKg"
      },
      "outputs": [],
      "source": [
        "epochs=10\n",
        "plt.ion()\n",
        "for epoch in range(epochs):\n",
        "  if maze.isGoalReached():\n",
        "    print('the goal was reached')\n",
        "    break\n",
        "  else:\n",
        "    state= maze.robot.compass(maze.gravitationalForce())\n",
        "    print(state)\n",
        "    qvalues=QN.predict(state.reshape(1, -1))\n",
        "    print(qvalues)\n",
        "    chosenMove= np.argmax(qvalues)\n",
        "    print(maze.robot.moves[chosenMove])\n",
        "    maze.robot.move(chosenMove)\n",
        "    maze.plot()\n",
        "\n",
        "plt.ioff()\n",
        "plt.show()"
      ]
    },
    {
      "cell_type": "markdown",
      "source": [
        "Old code: just the APF"
      ],
      "metadata": {
        "id": "evpz5omvoI65"
      }
    },
    {
      "cell_type": "code",
      "execution_count": null,
      "metadata": {
        "id": "WVZ09C6c48Yt"
      },
      "outputs": [],
      "source": [
        "#for testing the first part of the program\n",
        "maze=Maze(2500)\n",
        "maze.addGoals(1)\n",
        "maze.addObstacles(0)\n",
        "maze.spawnRobot()\n",
        "maze.print()\n",
        "maze.plot()\n"
      ]
    },
    {
      "cell_type": "code",
      "execution_count": null,
      "metadata": {
        "id": "1ZkvC2XSwS5v"
      },
      "outputs": [],
      "source": [
        "#for testing the first part of the program\n",
        "\n",
        "epochs=100\n",
        "plt.ion()\n",
        "for epoch in range(epochs):\n",
        "  if maze.isGoalReached():\n",
        "    print('the goal was reached')\n",
        "    break\n",
        "  else:\n",
        "    chosenMove= np.argmax(maze.robot.compass(maze.gravitationalForce()))\n",
        "    print(maze.getState(3))\n",
        "    maze.robot.move(chosenMove)\n",
        "    maze.plot()\n",
        "\n",
        "plt.ioff()\n",
        "plt.show()\n"
      ]
    }
  ],
  "metadata": {
    "colab": {
      "provenance": [],
      "authorship_tag": "ABX9TyP3Crv352PzURXkk2zQh6CR",
      "include_colab_link": true
    },
    "kernelspec": {
      "display_name": "Python 3",
      "name": "python3"
    },
    "language_info": {
      "name": "python"
    }
  },
  "nbformat": 4,
  "nbformat_minor": 0
}